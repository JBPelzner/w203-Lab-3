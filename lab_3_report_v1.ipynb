{
 "cells": [
  {
   "cell_type": "markdown",
   "metadata": {},
   "source": [
    "# Executive Summary"
   ]
  },
  {
   "cell_type": "markdown",
   "metadata": {},
   "source": [
    "# High Level Goal\n",
    "\n",
    "Your team has been hired to provide research for a political campaign. They have obtained a dataset of crime statistics for a selection of counties in North Carolina.\n",
    "\n",
    "Your task is to examine the data to help the campaign understand the determinants of crime and to generate policy suggestions that are applicable to local government.\n",
    "\n",
    "My Takeaway: Fundamentally, our goal is to\n",
    "* A. _help understand the determinants of crime_\n",
    "* B. _make informed policy suggestions accordingly_\n",
    "\n",
    "_A_ will be a statistical task, and doing _B_ will be require us to wear socio-political hats. Presumably, the interest of our audience, a political campaign is to pitch itself to the public for election using informed policy ideas for _reducing_ crime.\n",
    "\n",
    "In order to A, we must identify a measurable proxy for crime. I think that the most natural choice for this is the variable `crmrte` giving the crimes committed per person.\n"
   ]
  },
  {
   "cell_type": "code",
   "execution_count": 17,
   "metadata": {},
   "outputs": [],
   "source": [
    "# Load the data\n",
    "crime <- read.csv('crime_v2.csv')"
   ]
  },
  {
   "cell_type": "markdown",
   "metadata": {},
   "source": [
    "## Exploratory Cleaning"
   ]
  },
  {
   "cell_type": "markdown",
   "metadata": {},
   "source": [
    "Checking for missing values."
   ]
  },
  {
   "cell_type": "code",
   "execution_count": 18,
   "metadata": {},
   "outputs": [
    {
     "data": {
      "text/plain": [
       "   county           year           crmrte          prbarr       \n",
       " Mode :logical   Mode :logical   Mode :logical   Mode :logical  \n",
       " FALSE:91        FALSE:91        FALSE:91        FALSE:91       \n",
       " TRUE :6         TRUE :6         TRUE :6         TRUE :6        \n",
       "  prbconv         prbpris          avgsen          polpc        \n",
       " Mode :logical   Mode :logical   Mode :logical   Mode :logical  \n",
       " FALSE:97        FALSE:91        FALSE:91        FALSE:91       \n",
       "                 TRUE :6         TRUE :6         TRUE :6        \n",
       "  density          taxpc            west          central       \n",
       " Mode :logical   Mode :logical   Mode :logical   Mode :logical  \n",
       " FALSE:91        FALSE:91        FALSE:91        FALSE:91       \n",
       " TRUE :6         TRUE :6         TRUE :6         TRUE :6        \n",
       "   urban          pctmin80          wcon            wtuc        \n",
       " Mode :logical   Mode :logical   Mode :logical   Mode :logical  \n",
       " FALSE:91        FALSE:91        FALSE:91        FALSE:91       \n",
       " TRUE :6         TRUE :6         TRUE :6         TRUE :6        \n",
       "    wtrd            wfir            wser            wmfg        \n",
       " Mode :logical   Mode :logical   Mode :logical   Mode :logical  \n",
       " FALSE:91        FALSE:91        FALSE:91        FALSE:91       \n",
       " TRUE :6         TRUE :6         TRUE :6         TRUE :6        \n",
       "    wfed            wsta            wloc            mix         \n",
       " Mode :logical   Mode :logical   Mode :logical   Mode :logical  \n",
       " FALSE:91        FALSE:91        FALSE:91        FALSE:91       \n",
       " TRUE :6         TRUE :6         TRUE :6         TRUE :6        \n",
       "  pctymle       \n",
       " Mode :logical  \n",
       " FALSE:91       \n",
       " TRUE :6        "
      ]
     },
     "metadata": {},
     "output_type": "display_data"
    }
   ],
   "source": [
    "summary(is.na(crime))"
   ]
  },
  {
   "cell_type": "markdown",
   "metadata": {},
   "source": [
    "The output of the summary of missing values reveals that every column has precisely 6 missing values."
   ]
  },
  {
   "cell_type": "code",
   "execution_count": 19,
   "metadata": {},
   "outputs": [
    {
     "data": {
      "text/html": [
       "<table>\n",
       "<caption>A data.frame: 7 × 25</caption>\n",
       "<thead>\n",
       "\t<tr><th></th><th scope=col>county</th><th scope=col>year</th><th scope=col>crmrte</th><th scope=col>prbarr</th><th scope=col>prbconv</th><th scope=col>prbpris</th><th scope=col>avgsen</th><th scope=col>polpc</th><th scope=col>density</th><th scope=col>taxpc</th><th scope=col>⋯</th><th scope=col>wtuc</th><th scope=col>wtrd</th><th scope=col>wfir</th><th scope=col>wser</th><th scope=col>wmfg</th><th scope=col>wfed</th><th scope=col>wsta</th><th scope=col>wloc</th><th scope=col>mix</th><th scope=col>pctymle</th></tr>\n",
       "\t<tr><th></th><th scope=col>&lt;int&gt;</th><th scope=col>&lt;int&gt;</th><th scope=col>&lt;dbl&gt;</th><th scope=col>&lt;dbl&gt;</th><th scope=col>&lt;fct&gt;</th><th scope=col>&lt;dbl&gt;</th><th scope=col>&lt;dbl&gt;</th><th scope=col>&lt;dbl&gt;</th><th scope=col>&lt;dbl&gt;</th><th scope=col>&lt;dbl&gt;</th><th scope=col>⋯</th><th scope=col>&lt;dbl&gt;</th><th scope=col>&lt;dbl&gt;</th><th scope=col>&lt;dbl&gt;</th><th scope=col>&lt;dbl&gt;</th><th scope=col>&lt;dbl&gt;</th><th scope=col>&lt;dbl&gt;</th><th scope=col>&lt;dbl&gt;</th><th scope=col>&lt;dbl&gt;</th><th scope=col>&lt;dbl&gt;</th><th scope=col>&lt;dbl&gt;</th></tr>\n",
       "</thead>\n",
       "<tbody>\n",
       "\t<tr><th scope=row>91</th><td>197</td><td>87</td><td>0.0141928</td><td>0.207595</td><td>1.182929993</td><td>0.360825</td><td>12.23</td><td>0.00118573</td><td>0.889881</td><td>25.95258</td><td>⋯</td><td>341.8803</td><td>182.802</td><td>348.1432</td><td>212.8205</td><td>322.92</td><td>391.72</td><td>385.65</td><td>306.85</td><td>0.06756757</td><td>0.07419893</td></tr>\n",
       "\t<tr><th scope=row>92</th><td> NA</td><td>NA</td><td>       NA</td><td>      NA</td><td>           </td><td>      NA</td><td>   NA</td><td>        NA</td><td>      NA</td><td>      NA</td><td>⋯</td><td>      NA</td><td>     NA</td><td>      NA</td><td>      NA</td><td>    NA</td><td>    NA</td><td>    NA</td><td>    NA</td><td>        NA</td><td>        NA</td></tr>\n",
       "\t<tr><th scope=row>93</th><td> NA</td><td>NA</td><td>       NA</td><td>      NA</td><td>           </td><td>      NA</td><td>   NA</td><td>        NA</td><td>      NA</td><td>      NA</td><td>⋯</td><td>      NA</td><td>     NA</td><td>      NA</td><td>      NA</td><td>    NA</td><td>    NA</td><td>    NA</td><td>    NA</td><td>        NA</td><td>        NA</td></tr>\n",
       "\t<tr><th scope=row>94</th><td> NA</td><td>NA</td><td>       NA</td><td>      NA</td><td>           </td><td>      NA</td><td>   NA</td><td>        NA</td><td>      NA</td><td>      NA</td><td>⋯</td><td>      NA</td><td>     NA</td><td>      NA</td><td>      NA</td><td>    NA</td><td>    NA</td><td>    NA</td><td>    NA</td><td>        NA</td><td>        NA</td></tr>\n",
       "\t<tr><th scope=row>95</th><td> NA</td><td>NA</td><td>       NA</td><td>      NA</td><td>           </td><td>      NA</td><td>   NA</td><td>        NA</td><td>      NA</td><td>      NA</td><td>⋯</td><td>      NA</td><td>     NA</td><td>      NA</td><td>      NA</td><td>    NA</td><td>    NA</td><td>    NA</td><td>    NA</td><td>        NA</td><td>        NA</td></tr>\n",
       "\t<tr><th scope=row>96</th><td> NA</td><td>NA</td><td>       NA</td><td>      NA</td><td>           </td><td>      NA</td><td>   NA</td><td>        NA</td><td>      NA</td><td>      NA</td><td>⋯</td><td>      NA</td><td>     NA</td><td>      NA</td><td>      NA</td><td>    NA</td><td>    NA</td><td>    NA</td><td>    NA</td><td>        NA</td><td>        NA</td></tr>\n",
       "\t<tr><th scope=row>97</th><td> NA</td><td>NA</td><td>       NA</td><td>      NA</td><td>`          </td><td>      NA</td><td>   NA</td><td>        NA</td><td>      NA</td><td>      NA</td><td>⋯</td><td>      NA</td><td>     NA</td><td>      NA</td><td>      NA</td><td>    NA</td><td>    NA</td><td>    NA</td><td>    NA</td><td>        NA</td><td>        NA</td></tr>\n",
       "</tbody>\n",
       "</table>\n"
      ],
      "text/latex": [
       "A data.frame: 7 × 25\n",
       "\\begin{tabular}{r|lllllllllllllllllllllllll}\n",
       "  & county & year & crmrte & prbarr & prbconv & prbpris & avgsen & polpc & density & taxpc & west & central & urban & pctmin80 & wcon & wtuc & wtrd & wfir & wser & wmfg & wfed & wsta & wloc & mix & pctymle\\\\\n",
       "  & <int> & <int> & <dbl> & <dbl> & <fct> & <dbl> & <dbl> & <dbl> & <dbl> & <dbl> & <int> & <int> & <int> & <dbl> & <dbl> & <dbl> & <dbl> & <dbl> & <dbl> & <dbl> & <dbl> & <dbl> & <dbl> & <dbl> & <dbl>\\\\\n",
       "\\hline\n",
       "\t91 & 197 & 87 & 0.0141928 & 0.207595 & 1.182929993 & 0.360825 & 12.23 & 0.00118573 & 0.889881 & 25.95258 &  1 &  0 &  0 & 5.46081 & 314.166 & 341.8803 & 182.802 & 348.1432 & 212.8205 & 322.92 & 391.72 & 385.65 & 306.85 & 0.06756757 & 0.07419893\\\\\n",
       "\t92 &  NA & NA &        NA &       NA &             &       NA &    NA &         NA &       NA &       NA & NA & NA & NA &      NA &      NA &       NA &      NA &       NA &       NA &     NA &     NA &     NA &     NA &         NA &         NA\\\\\n",
       "\t93 &  NA & NA &        NA &       NA &             &       NA &    NA &         NA &       NA &       NA & NA & NA & NA &      NA &      NA &       NA &      NA &       NA &       NA &     NA &     NA &     NA &     NA &         NA &         NA\\\\\n",
       "\t94 &  NA & NA &        NA &       NA &             &       NA &    NA &         NA &       NA &       NA & NA & NA & NA &      NA &      NA &       NA &      NA &       NA &       NA &     NA &     NA &     NA &     NA &         NA &         NA\\\\\n",
       "\t95 &  NA & NA &        NA &       NA &             &       NA &    NA &         NA &       NA &       NA & NA & NA & NA &      NA &      NA &       NA &      NA &       NA &       NA &     NA &     NA &     NA &     NA &         NA &         NA\\\\\n",
       "\t96 &  NA & NA &        NA &       NA &             &       NA &    NA &         NA &       NA &       NA & NA & NA & NA &      NA &      NA &       NA &      NA &       NA &       NA &     NA &     NA &     NA &     NA &         NA &         NA\\\\\n",
       "\t97 &  NA & NA &        NA &       NA & `           &       NA &    NA &         NA &       NA &       NA & NA & NA & NA &      NA &      NA &       NA &      NA &       NA &       NA &     NA &     NA &     NA &     NA &         NA &         NA\\\\\n",
       "\\end{tabular}\n"
      ],
      "text/markdown": [
       "\n",
       "A data.frame: 7 × 25\n",
       "\n",
       "| <!--/--> | county &lt;int&gt; | year &lt;int&gt; | crmrte &lt;dbl&gt; | prbarr &lt;dbl&gt; | prbconv &lt;fct&gt; | prbpris &lt;dbl&gt; | avgsen &lt;dbl&gt; | polpc &lt;dbl&gt; | density &lt;dbl&gt; | taxpc &lt;dbl&gt; | ⋯ ⋯ | wtuc &lt;dbl&gt; | wtrd &lt;dbl&gt; | wfir &lt;dbl&gt; | wser &lt;dbl&gt; | wmfg &lt;dbl&gt; | wfed &lt;dbl&gt; | wsta &lt;dbl&gt; | wloc &lt;dbl&gt; | mix &lt;dbl&gt; | pctymle &lt;dbl&gt; |\n",
       "|---|---|---|---|---|---|---|---|---|---|---|---|---|---|---|---|---|---|---|---|---|---|\n",
       "| 91 | 197 | 87 | 0.0141928 | 0.207595 | 1.182929993 | 0.360825 | 12.23 | 0.00118573 | 0.889881 | 25.95258 | ⋯ | 341.8803 | 182.802 | 348.1432 | 212.8205 | 322.92 | 391.72 | 385.65 | 306.85 | 0.06756757 | 0.07419893 |\n",
       "| 92 |  NA | NA |        NA |       NA | <!----> |       NA |    NA |         NA |       NA |       NA | ⋯ |       NA |      NA |       NA |       NA |     NA |     NA |     NA |     NA |         NA |         NA |\n",
       "| 93 |  NA | NA |        NA |       NA | <!----> |       NA |    NA |         NA |       NA |       NA | ⋯ |       NA |      NA |       NA |       NA |     NA |     NA |     NA |     NA |         NA |         NA |\n",
       "| 94 |  NA | NA |        NA |       NA | <!----> |       NA |    NA |         NA |       NA |       NA | ⋯ |       NA |      NA |       NA |       NA |     NA |     NA |     NA |     NA |         NA |         NA |\n",
       "| 95 |  NA | NA |        NA |       NA | <!----> |       NA |    NA |         NA |       NA |       NA | ⋯ |       NA |      NA |       NA |       NA |     NA |     NA |     NA |     NA |         NA |         NA |\n",
       "| 96 |  NA | NA |        NA |       NA | <!----> |       NA |    NA |         NA |       NA |       NA | ⋯ |       NA |      NA |       NA |       NA |     NA |     NA |     NA |     NA |         NA |         NA |\n",
       "| 97 |  NA | NA |        NA |       NA | `           |       NA |    NA |         NA |       NA |       NA | ⋯ |       NA |      NA |       NA |       NA |     NA |     NA |     NA |     NA |         NA |         NA |\n",
       "\n"
      ],
      "text/plain": [
       "   county year crmrte    prbarr   prbconv     prbpris  avgsen polpc     \n",
       "91 197    87   0.0141928 0.207595 1.182929993 0.360825 12.23  0.00118573\n",
       "92  NA    NA          NA       NA                   NA    NA          NA\n",
       "93  NA    NA          NA       NA                   NA    NA          NA\n",
       "94  NA    NA          NA       NA                   NA    NA          NA\n",
       "95  NA    NA          NA       NA                   NA    NA          NA\n",
       "96  NA    NA          NA       NA                   NA    NA          NA\n",
       "97  NA    NA          NA       NA `                 NA    NA          NA\n",
       "   density  taxpc    ⋯ wtuc     wtrd    wfir     wser     wmfg   wfed   wsta  \n",
       "91 0.889881 25.95258 ⋯ 341.8803 182.802 348.1432 212.8205 322.92 391.72 385.65\n",
       "92       NA       NA ⋯       NA      NA       NA       NA     NA     NA     NA\n",
       "93       NA       NA ⋯       NA      NA       NA       NA     NA     NA     NA\n",
       "94       NA       NA ⋯       NA      NA       NA       NA     NA     NA     NA\n",
       "95       NA       NA ⋯       NA      NA       NA       NA     NA     NA     NA\n",
       "96       NA       NA ⋯       NA      NA       NA       NA     NA     NA     NA\n",
       "97       NA       NA ⋯       NA      NA       NA       NA     NA     NA     NA\n",
       "   wloc   mix        pctymle   \n",
       "91 306.85 0.06756757 0.07419893\n",
       "92     NA         NA         NA\n",
       "93     NA         NA         NA\n",
       "94     NA         NA         NA\n",
       "95     NA         NA         NA\n",
       "96     NA         NA         NA\n",
       "97     NA         NA         NA"
      ]
     },
     "metadata": {},
     "output_type": "display_data"
    },
    {
     "data": {
      "text/html": [
       "'Number of missing values in first 92 rows: 0'"
      ],
      "text/latex": [
       "'Number of missing values in first 92 rows: 0'"
      ],
      "text/markdown": [
       "'Number of missing values in first 92 rows: 0'"
      ],
      "text/plain": [
       "[1] \"Number of missing values in first 92 rows: 0\""
      ]
     },
     "metadata": {},
     "output_type": "display_data"
    }
   ],
   "source": [
    "crime[91:nrow(crime), ]\n",
    "paste0(\"Number of missing values in first 92 rows: \", sum(is.na(crime[1:91, ])))"
   ]
  },
  {
   "cell_type": "markdown",
   "metadata": {},
   "source": [
    "The last 6 rows are filled exclusively with `NA`s, while all the rows up to and including the 91st contain no missing values. Therefore, will omit the existing `NA`s with no loss of important information. "
   ]
  },
  {
   "cell_type": "code",
   "execution_count": 20,
   "metadata": {},
   "outputs": [],
   "source": [
    "crime <- na.omit(crime)"
   ]
  },
  {
   "cell_type": "markdown",
   "metadata": {},
   "source": [
    "Now, we will have a quick look at the variables data types."
   ]
  },
  {
   "cell_type": "code",
   "execution_count": 21,
   "metadata": {},
   "outputs": [
    {
     "name": "stdout",
     "output_type": "stream",
     "text": [
      "'data.frame':\t91 obs. of  25 variables:\n",
      " $ county  : int  1 3 5 7 9 11 13 15 17 19 ...\n",
      " $ year    : int  87 87 87 87 87 87 87 87 87 87 ...\n",
      " $ crmrte  : num  0.0356 0.0153 0.013 0.0268 0.0106 ...\n",
      " $ prbarr  : num  0.298 0.132 0.444 0.365 0.518 ...\n",
      " $ prbconv : Factor w/ 92 levels \"\",\"`\",\"0.068376102\",..: 63 89 13 62 52 3 59 78 42 86 ...\n",
      " $ prbpris : num  0.436 0.45 0.6 0.435 0.443 ...\n",
      " $ avgsen  : num  6.71 6.35 6.76 7.14 8.22 ...\n",
      " $ polpc   : num  0.001828 0.000746 0.001234 0.00153 0.00086 ...\n",
      " $ density : num  2.423 1.046 0.413 0.492 0.547 ...\n",
      " $ taxpc   : num  31 26.9 34.8 42.9 28.1 ...\n",
      " $ west    : int  0 0 1 0 1 1 0 0 0 0 ...\n",
      " $ central : int  1 1 0 1 0 0 0 0 0 0 ...\n",
      " $ urban   : int  0 0 0 0 0 0 0 0 0 0 ...\n",
      " $ pctmin80: num  20.22 7.92 3.16 47.92 1.8 ...\n",
      " $ wcon    : num  281 255 227 375 292 ...\n",
      " $ wtuc    : num  409 376 372 398 377 ...\n",
      " $ wtrd    : num  221 196 229 191 207 ...\n",
      " $ wfir    : num  453 259 306 281 289 ...\n",
      " $ wser    : num  274 192 210 257 215 ...\n",
      " $ wmfg    : num  335 300 238 282 291 ...\n",
      " $ wfed    : num  478 410 359 412 377 ...\n",
      " $ wsta    : num  292 363 332 328 367 ...\n",
      " $ wloc    : num  312 301 281 299 343 ...\n",
      " $ mix     : num  0.0802 0.0302 0.4651 0.2736 0.0601 ...\n",
      " $ pctymle : num  0.0779 0.0826 0.0721 0.0735 0.0707 ...\n",
      " - attr(*, \"na.action\")= 'omit' Named int  92 93 94 95 96 97\n",
      "  ..- attr(*, \"names\")= chr  \"92\" \"93\" \"94\" \"95\" ...\n"
     ]
    }
   ],
   "source": [
    "str(crime)"
   ]
  },
  {
   "cell_type": "markdown",
   "metadata": {},
   "source": [
    "All of the variables in this dataset aside are conceptually numeric, but the probabilty of conviction, `prbarr` has been inferred as a factor. Therefore, it is necessary to cast it as a numeric variable."
   ]
  },
  {
   "cell_type": "code",
   "execution_count": 22,
   "metadata": {},
   "outputs": [],
   "source": [
    "crime$prbconv <- as.numeric(crime$prbconv)"
   ]
  },
  {
   "cell_type": "markdown",
   "metadata": {},
   "source": [
    "Additionally, we will remove the `county` and `year` because `year` is a constant, and the counties' unique nnumerical identifiers will not be relevant to any analysis."
   ]
  },
  {
   "cell_type": "code",
   "execution_count": 23,
   "metadata": {},
   "outputs": [],
   "source": [
    "crime <- crime[!names(crime) %in% c('year', 'county')]"
   ]
  },
  {
   "cell_type": "markdown",
   "metadata": {},
   "source": [
    "Lastly, we will take a look at the variable summaries to see whether the data is within normal bounds."
   ]
  },
  {
   "cell_type": "code",
   "execution_count": 24,
   "metadata": {},
   "outputs": [
    {
     "data": {
      "text/plain": [
       "     crmrte             prbarr           prbconv         prbpris      \n",
       " Min.   :0.005533   Min.   :0.09277   Min.   : 3.00   Min.   :0.1500  \n",
       " 1st Qu.:0.020927   1st Qu.:0.20568   1st Qu.:25.50   1st Qu.:0.3648  \n",
       " Median :0.029986   Median :0.27095   Median :48.00   Median :0.4234  \n",
       " Mean   :0.033400   Mean   :0.29492   Mean   :47.75   Mean   :0.4108  \n",
       " 3rd Qu.:0.039642   3rd Qu.:0.34438   3rd Qu.:70.00   3rd Qu.:0.4568  \n",
       " Max.   :0.098966   Max.   :1.09091   Max.   :92.00   Max.   :0.6000  \n",
       "     avgsen           polpc              density            taxpc       \n",
       " Min.   : 5.380   Min.   :0.0007459   Min.   :0.00002   Min.   : 25.69  \n",
       " 1st Qu.: 7.340   1st Qu.:0.0012308   1st Qu.:0.54741   1st Qu.: 30.66  \n",
       " Median : 9.100   Median :0.0014853   Median :0.96226   Median : 34.87  \n",
       " Mean   : 9.647   Mean   :0.0017022   Mean   :1.42884   Mean   : 38.06  \n",
       " 3rd Qu.:11.420   3rd Qu.:0.0018768   3rd Qu.:1.56824   3rd Qu.: 40.95  \n",
       " Max.   :20.700   Max.   :0.0090543   Max.   :8.82765   Max.   :119.76  \n",
       "      west           central           urban            pctmin80     \n",
       " Min.   :0.0000   Min.   :0.0000   Min.   :0.00000   Min.   : 1.284  \n",
       " 1st Qu.:0.0000   1st Qu.:0.0000   1st Qu.:0.00000   1st Qu.: 9.845  \n",
       " Median :0.0000   Median :0.0000   Median :0.00000   Median :24.312  \n",
       " Mean   :0.2527   Mean   :0.3736   Mean   :0.08791   Mean   :25.495  \n",
       " 3rd Qu.:0.5000   3rd Qu.:1.0000   3rd Qu.:0.00000   3rd Qu.:38.142  \n",
       " Max.   :1.0000   Max.   :1.0000   Max.   :1.00000   Max.   :64.348  \n",
       "      wcon            wtuc            wtrd            wfir      \n",
       " Min.   :193.6   Min.   :187.6   Min.   :154.2   Min.   :170.9  \n",
       " 1st Qu.:250.8   1st Qu.:374.6   1st Qu.:190.9   1st Qu.:286.5  \n",
       " Median :281.4   Median :406.5   Median :203.0   Median :317.3  \n",
       " Mean   :285.4   Mean   :411.7   Mean   :211.6   Mean   :322.1  \n",
       " 3rd Qu.:314.8   3rd Qu.:443.4   3rd Qu.:225.1   3rd Qu.:345.4  \n",
       " Max.   :436.8   Max.   :613.2   Max.   :354.7   Max.   :509.5  \n",
       "      wser             wmfg            wfed            wsta      \n",
       " Min.   : 133.0   Min.   :157.4   Min.   :326.1   Min.   :258.3  \n",
       " 1st Qu.: 229.7   1st Qu.:288.9   1st Qu.:400.2   1st Qu.:329.3  \n",
       " Median : 253.2   Median :320.2   Median :449.8   Median :357.7  \n",
       " Mean   : 275.6   Mean   :335.6   Mean   :442.9   Mean   :357.5  \n",
       " 3rd Qu.: 280.5   3rd Qu.:359.6   3rd Qu.:478.0   3rd Qu.:382.6  \n",
       " Max.   :2177.1   Max.   :646.9   Max.   :598.0   Max.   :499.6  \n",
       "      wloc            mix             pctymle       \n",
       " Min.   :239.2   Min.   :0.01961   Min.   :0.06216  \n",
       " 1st Qu.:297.3   1st Qu.:0.08073   1st Qu.:0.07443  \n",
       " Median :308.1   Median :0.10186   Median :0.07771  \n",
       " Mean   :312.7   Mean   :0.12884   Mean   :0.08396  \n",
       " 3rd Qu.:329.2   3rd Qu.:0.15175   3rd Qu.:0.08350  \n",
       " Max.   :388.1   Max.   :0.46512   Max.   :0.24871  "
      ]
     },
     "metadata": {},
     "output_type": "display_data"
    }
   ],
   "source": [
    "summary(crime)"
   ]
  },
  {
   "cell_type": "markdown",
   "metadata": {},
   "source": [
    "While most of the data appears within normal bounds, it comes to our attention that some of the probability varialbles, namely `prbarr` and `prbconv`, are outside of expected bounds. There summaries are as follows:\n"
   ]
  },
  {
   "cell_type": "code",
   "execution_count": 25,
   "metadata": {},
   "outputs": [
    {
     "name": "stdout",
     "output_type": "stream",
     "text": [
      "[1] \"Probaility of arrest summary:\"\n"
     ]
    },
    {
     "data": {
      "text/plain": [
       "   Min. 1st Qu.  Median    Mean 3rd Qu.    Max. \n",
       "0.09277 0.20568 0.27095 0.29492 0.34438 1.09091 "
      ]
     },
     "metadata": {},
     "output_type": "display_data"
    },
    {
     "name": "stdout",
     "output_type": "stream",
     "text": [
      "[1] \"Probability of conviction\"\n"
     ]
    },
    {
     "data": {
      "text/plain": [
       "   Min. 1st Qu.  Median    Mean 3rd Qu.    Max. \n",
       "   3.00   25.50   48.00   47.75   70.00   92.00 "
      ]
     },
     "metadata": {},
     "output_type": "display_data"
    }
   ],
   "source": [
    "print('Probaility of arrest summary:')\n",
    "summary(crime$prbarr)\n",
    "print('Probability of conviction')\n",
    "summary(crime$prbconv)"
   ]
  },
  {
   "cell_type": "markdown",
   "metadata": {},
   "source": [
    "All counties probability of conviction values are bounded between 0 and 100, so we speculate that these numbers are percentages, and not probabilities. Thus, we will transform `prbconv` by scaling it by $1/100$."
   ]
  },
  {
   "cell_type": "code",
   "execution_count": 26,
   "metadata": {},
   "outputs": [],
   "source": [
    "crime$prbconv <- 1.0/100 * crime$prbconv"
   ]
  },
  {
   "cell_type": "markdown",
   "metadata": {},
   "source": [
    "Additionally, while most of the probability of arrest values are between 0 and 1, the maximum values of the column is 1.09, outside the bounds of a probability. Thus will will have a closer look at the distribtion of `prbconv`."
   ]
  },
  {
   "cell_type": "code",
   "execution_count": 27,
   "metadata": {},
   "outputs": [
    {
     "data": {
      "text/html": [
       "'Number of values greater than 1: 1'"
      ],
      "text/latex": [
       "'Number of values greater than 1: 1'"
      ],
      "text/markdown": [
       "'Number of values greater than 1: 1'"
      ],
      "text/plain": [
       "[1] \"Number of values greater than 1: 1\""
      ]
     },
     "metadata": {},
     "output_type": "display_data"
    },
    {
     "data": {
      "image/png": "[encoded data removed]",
      "text/plain": [
       "Plot with title “Probability of Arrest”"
      ]
     },
     "metadata": {},
     "output_type": "display_data"
    }
   ],
   "source": [
    "options(repr.plot.height = 4, repr.plot.width = 4, repr.plot.pointsize = 10)\n",
    "hist(crime$prbarr, main = 'Probability of Arrest', xlab='probaility')\n",
    "paste0('Number of values greater than 1: ', sum(crime$prbarr > 1.0))"
   ]
  },
  {
   "cell_type": "markdown",
   "metadata": {},
   "source": [
    "Since there is only one probability value greater than 1, we speculate that it is the result of a mistranscription, in which the data collecter input `1.09` instead of the intended `0.09`. Thus we will go ahead and change the value accordingly."
   ]
  },
  {
   "cell_type": "code",
   "execution_count": 28,
   "metadata": {},
   "outputs": [],
   "source": [
    "crime$prbarr[crime$prbarr > 1.0] <- crime$prbarr[crime$prbarr > 1.0] - 1 "
   ]
  },
  {
   "cell_type": "markdown",
   "metadata": {},
   "source": [
    "# Intended Models\n",
    "\n",
    "## Model 1: \n",
    "$crmrte \\sim \\beta_0 + \\beta_1log(density + 1) + \\beta_2polpc + \\beta_3wfed + e$"
   ]
  },
  {
   "cell_type": "markdown",
   "metadata": {},
   "source": [
    "Our first model regresses crime rate (crmrate) on density (density) and federal wage (wfed). Of the variables in the dataset, we chose density, polpc and wfed as the explanatory variables of interest in our baseline model. \n",
    "\n",
    "Our baseline specifications were determined with consideration to correlation with crmrte and police actionability. We use spearman correlation because ... We identified density, urban, and wfed as the covariates with the highest correlation with crmrte, and as such saw these as the most relevant explanatory variables. However, we chose to build our first model without including urban, because this variable is highly correlated with density, and therefore raised multicollinearity concerns. Furthermore, because density is a metric variable and more easily addressable with policy suggestions, we believed that it was more appropriate for our regression, and that including the urban variable would introduce multicollinearity that would take away from the explanatory power of density. On the other hand, wfed is not actionable, because federal wages are subject to federal policy.\n"
   ]
  },
  {
   "cell_type": "code",
   "execution_count": null,
   "metadata": {},
   "outputs": [],
   "source": [
    "round(cor(crime, method = 'spearman'),2)[, 'crmrte']"
   ]
  },
  {
   "cell_type": "markdown",
   "metadata": {},
   "source": [
    "The variables `density`, `urban`, `polpc` and `wfed`, which represent people per square mile, an indicator for an urban county, police per capita and the average weekly wage of federal employees, respectively, have the highest spearman correlations with crime rate in magnitude. This result suggests that such variables could be the key derminants of crime rate."
   ]
  },
  {
   "cell_type": "code",
   "execution_count": null,
   "metadata": {},
   "outputs": [],
   "source": [
    "round(cor(crime[,c('density', 'urban', 'polpc', 'wfed')]), 2)"
   ]
  },
  {
   "cell_type": "markdown",
   "metadata": {},
   "source": [
    "The strong correlation between `urban` and `density` is unsurprising because urban cities are dense clusters of people. As such, we will not include `density` in out baseline model as it does not offer much information that isn't already provided by `density`, and the baseline model will then. "
   ]
  },
  {
   "cell_type": "markdown",
   "metadata": {},
   "source": [
    "In an effort to optimize our baseline model, we compared the following plots, transforming our variables use natural logarithm.  \n",
    "\n",
    "Observing the crmrte vs. density plot, we decided to transform our density variable. We apply the natural logarithm to emphasize the linear relationship between the two variables. Moreover, we scaled this variable by adding 1, because some of the density values are less than 1.\n",
    "\n",
    "Noticing a relatively low correlation between crmrte and polpc, we produce the scatterplot below and observe an outlier. In order to get a better sense of the correlation between the two variables, we remove the outlier and reproduce the relevant correlation matrix and scatterplots accordingly. The correlation between crmrte and polpc increased to .49. This justifies our choice to use polpc throughout the rest of our models. In addition, polpc lends itself to policy action, because counties and cities can fluctuate the amount of working police.\n",
    "\n",
    "It is worth noting at this point that we consider removing the outlier suspect for the all of our following models. We wait until we observe some preliminary baseline model results before making that decision.\n",
    "\n",
    "For viewing the transformed version of wfed, we decide to use its untransformed version."
   ]
  },
  {
   "cell_type": "code",
   "execution_count": null,
   "metadata": {},
   "outputs": [],
   "source": [
    "options(repr.plot.height = 3, repr.plot.width = 9, repr.plot.pointsize = 10)\n",
    "par(mfrow = c(1, 3))\n",
    "plot(crime[,'density'], crime[,'crmrte'], xlab = 'density', ylab = 'crmrte')\n",
    "plot(crime[, 'polpc'], crime[,'crmrte'], xlab = 'polc', ylab = 'crmrte')\n",
    "plot(crime[,'wfed'], crime[,'crmrte'], xlab = 'wfed', ylab = 'crmrte')"
   ]
  },
  {
   "cell_type": "code",
   "execution_count": null,
   "metadata": {},
   "outputs": [],
   "source": [
    "options(repr.plot.height = 3, repr.plot.width = 9, repr.plot.pointsize = 10)\n",
    "par(mfrow = c(1, 3))\n",
    "plot(log(crime[,'density'] + 1), log(crime[,'crmrte']), xlab = 'density', ylab = 'crmrte')\n",
    "plot(log(crime[, 'polpc']), log(crime[,'crmrte']), xlab = 'polpc', ylab = 'crmrte')\n",
    "plot(log(crime[,'wfed']), log(crime[,'crmrte']), xlab = 'wfed', ylab = 'crmrte')"
   ]
  },
  {
   "cell_type": "code",
   "execution_count": null,
   "metadata": {},
   "outputs": [],
   "source": [
    "options(repr.plot.height = 3, repr.plot.width = 9, repr.plot.pointsize = 10)\n",
    "par(mfrow = c(1, 3))\n",
    "plot(log(crime[,'density'] + 1), crime[,'crmrte'], xlab = 'density', ylab = 'crmrte')\n",
    "plot(log(crime[, 'polpc']), crime[,'crmrte'], xlab = 'polpc', ylab = 'crmrte')\n",
    "plot(log(crime[,'wfed']), crime[,'crmrte'], xlab = 'wfed', ylab = 'crmrte')"
   ]
  },
  {
   "cell_type": "markdown",
   "metadata": {},
   "source": [
    "## Model 1 Results"
   ]
  },
  {
   "cell_type": "markdown",
   "metadata": {},
   "source": [
    "With the polpc outlier included, we observe the following baseline model results:\n",
    "\n",
    "Adjusted R^squared: 0.5231. <br>\n",
    "Our transformed density variable is significant at the 0.1% level. \n",
    "\n",
    "Upon first viewing the residuals vs. fitted plot, we see that the smoothed spline curve is parabolic, therefore suggesting that the variables may suffer from exogeneity. This means that there may be a considerable amount of correlation between the model’s error term and certain independent variables. Hence, the zero-conditional mean assumption of MLR and CLM may be violated.\n",
    "\n",
    "Upon first viewing the Normal Q-Q plot, we observe that our distribution of residuals has fat tails. We do not need to be concerned about the normality of our errors, because our sample size of 91 is sufficient to invoke the Central Limit Theorem, which suggests that our sampling distribution will be normal. This assumption remains consistent throughout our report.\n",
    "\n",
    "Upon first viewing the Residuals vs. Leverage plot, the Cook’s distance line visibly suggests that datapoint #51 may indeed be an outlier."
   ]
  },
  {
   "cell_type": "code",
   "execution_count": null,
   "metadata": {},
   "outputs": [],
   "source": [
    "model.1 <- lm(crmrte ~ log(density+1) + polpc + wfed, data = crime)\n",
    "summary(model.1)"
   ]
  },
  {
   "cell_type": "code",
   "execution_count": null,
   "metadata": {},
   "outputs": [],
   "source": [
    "options(repr.plot.height = 6, repr.plot.width = 6, repr.plot.pointsize = 10)\n",
    "par(mfrow = c(2,2))\n",
    "plot(model.1)"
   ]
  },
  {
   "cell_type": "markdown",
   "metadata": {},
   "source": [
    "Considering these somewhat disappointing results, we decide to remove the outlier suspect identified earlier, and reproduce our model 1 results. We remove this datapoint for all following models as well. \n",
    "\n",
    "After the outlier is removed, our baseline model improves.\n",
    "Our adjusted r^2 increases to 0.575\n",
    "In addition to our transformed density variable, our cleaned polpc variable is now statistically significant at the 0.1% level.\n",
    "\n",
    "Now, the Residuals vs. Leverage plot now indicates that datapoints #25 and #90 may also be outliers, but we decided that removing the most extreme outlier, datapoint #51, is sufficient for now. Any changes to the other plots can not be identified."
   ]
  },
  {
   "cell_type": "code",
   "execution_count": null,
   "metadata": {},
   "outputs": [],
   "source": [
    "model.1.1 <- lm(crmrte ~ log(density+1) + polpc + wfed, data = crime[-c(51),])\n",
    "summary(model.1.1)"
   ]
  },
  {
   "cell_type": "code",
   "execution_count": null,
   "metadata": {},
   "outputs": [],
   "source": [
    "options(repr.plot.height = 6, repr.plot.width = 6, repr.plot.pointsize = 10)\n",
    "par(mfrow = c(2,2))\n",
    "plot(model.1.1)"
   ]
  },
  {
   "cell_type": "code",
   "execution_count": null,
   "metadata": {},
   "outputs": [],
   "source": [
    "hist(model.1.1$residuals, breaks = 10)"
   ]
  },
  {
   "cell_type": "markdown",
   "metadata": {},
   "source": [
    "# Model V2\n",
    "\n",
    "$$crmrte \\sim \\beta_0 + \\beta_1log(density +1) + \\beta_2polpc + \\beta_3wfed + \\beta_4pctymle  + \\beta_5prbconv + e$$"
   ]
  },
  {
   "cell_type": "markdown",
   "metadata": {},
   "source": [
    "Our second model includes the same covariates as the first, as well as pctymle and prbconv. We believe these additional variables will increase the accuracy of our results without introducing substantial bias. As a rule of thumb, the variables we choose to include for model 2 are based on them having a having a correlation with crmrte that is higher than 0.34 in absolute value. \n",
    "\n",
    "These variables included prbarr, pctymle, prbconv, wcon, wloc, and wmfg. We cross reference these variables to check for any potential multicollinearity concerns with previous regressors. Seeing that the three wage variables are relatively highly correlated with wfed (all have correlation above 0.5), we chose to not include these variables in Model 2. These variables are associated with crime, but may not necessarily cause crime in and of themselves.\n",
    "\n",
    "In addition, upon looking at the prbarr data, we notice that one datapoint is greater than 1, which doesn’t make sense. Assuming this is a transcription error, we subtract this probability value by 1, and then reproduce the correlation between crmrte and prbarr, and observe that it equals -.28. Seeing that the correlation decreased, we decide to not include it. We decide to include pctymle and prbconv in Model 2 and that they don’t require any transformations."
   ]
  },
  {
   "cell_type": "code",
   "execution_count": null,
   "metadata": {},
   "outputs": [],
   "source": [
    "options(repr.plot.height = 4, repr.plot.width = 4, repr.plot.pointsize = 10)\n",
    "hist(crime$prbarr)"
   ]
  },
  {
   "cell_type": "code",
   "execution_count": null,
   "metadata": {},
   "outputs": [],
   "source": [
    "crime$prbconv <- 0.001*crime$prbconv\n",
    "crime$prbarr[crime$prbarr > 1.0] <- crime$prbarr[crime$prbarr > 1.0] - 1 "
   ]
  },
  {
   "cell_type": "code",
   "execution_count": null,
   "metadata": {},
   "outputs": [],
   "source": [
    "crime$log.density <- log(crime$density + 1)\n",
    "examined.cols <- c('log.density', 'polpc', 'urban', 'wfed')\n",
    "round(cor(crime[,!names(crime) %in% examined.cols], method = 'spearman')[, 'crmrte'], 2)"
   ]
  },
  {
   "cell_type": "code",
   "execution_count": null,
   "metadata": {},
   "outputs": [],
   "source": [
    "new.cols <- c('prbconv', 'wcon', 'wmfg', 'wloc', 'pctymle')\n",
    "round(cor(crime)[new.cols, examined.cols[examined.cols != 'urban']], 2)"
   ]
  },
  {
   "cell_type": "code",
   "execution_count": null,
   "metadata": {
    "scrolled": true
   },
   "outputs": [],
   "source": [
    "options(repr.plot.height = 4, repr.plot.width = 8, repr.plot.pointsize = 10)\n",
    "par(mfrow = c(1, 2))\n",
    "plot(crime$prbconv, crime$crmrte)\n",
    "plot(crime$pctymle, crime$crmrte)"
   ]
  },
  {
   "cell_type": "code",
   "execution_count": null,
   "metadata": {},
   "outputs": [],
   "source": [
    "##In this code we show the plot for crime rate on percent youth male, omitting the outlier\n",
    "crime.3 <- crime[crime$pctymle < 0.12,]\n",
    "plot(crime.3$pctymle, crime.3$crmrte)"
   ]
  },
  {
   "cell_type": "code",
   "execution_count": null,
   "metadata": {},
   "outputs": [],
   "source": [
    "options(repr.plot.height = 4, repr.plot.width = 8, repr.plot.pointsize = 10)\n",
    "par(mfrow = c(1, 2))\n",
    "plot(crime$prbconv, crime$crmrte)\n",
    "plot(log(crime$pctymle), crime$crmrte)"
   ]
  },
  {
   "cell_type": "markdown",
   "metadata": {},
   "source": [
    "## Model 2 Results"
   ]
  },
  {
   "cell_type": "markdown",
   "metadata": {},
   "source": [
    "Adjusted R^2: 0.6073. <br>\n",
    "Our transformed density variable is statistically significant at the 0.1% level, our cleaned polpc variable is statistically significant at the 1% level, and our prbconv variable statistically significant at the 5% level.\n",
    "\n",
    "Upon first viewing the Residuals vs. Leverage plot, the Cook’s distance line now visibly suggests that datapoint #25 may indeed be an outlier in addition to datapoint #51, which we have previously removed. We decide to remove datapoint #25 from model 2 as well. \n",
    "\n",
    "Reproducing our model and its results, we observe the following: <br>\n",
    "Adjusted R^2 increases to 0.65 <br>\n",
    "Our transformed density variable is statistically significant at the 0.1% level, our cleaned polpc variable is statistically significant at the 1% level, and our prbconv variable is statistically significant at the 5% level."
   ]
  },
  {
   "cell_type": "code",
   "execution_count": null,
   "metadata": {},
   "outputs": [],
   "source": [
    "model.2 <- lm(crmrte ~ log(density+1) + polpc + wfed + prbconv + pctymle, data = crime[-c(51),])\n",
    "summary(model.2)"
   ]
  },
  {
   "cell_type": "code",
   "execution_count": null,
   "metadata": {},
   "outputs": [],
   "source": [
    "options(repr.plot.height = 6, repr.plot.width = 6, repr.plot.pointsize = 10)\n",
    "par(mfrow = c(2,2))\n",
    "plot(model.2)"
   ]
  },
  {
   "cell_type": "code",
   "execution_count": null,
   "metadata": {},
   "outputs": [],
   "source": [
    "model.2.2 <- lm(crmrte ~ log(density+1) + polpc + wfed + prbconv + pctymle, data = crime[-c(51,25),])\n",
    "summary(model.2.2)"
   ]
  },
  {
   "cell_type": "code",
   "execution_count": null,
   "metadata": {},
   "outputs": [],
   "source": [
    "options(repr.plot.height = 6, repr.plot.width = 6, repr.plot.pointsize = 10)\n",
    "par(mfrow = c(2,2))\n",
    "plot(model.2.2)"
   ]
  },
  {
   "cell_type": "markdown",
   "metadata": {},
   "source": [
    "# Model V3\n",
    "\n",
    "$crmrte \\sim \\beta_0 + \\beta_1log(density +1) + \\beta_2polpc + \\beta_3wfed + \\beta_4pctymle  + \\beta_5prbconv + \\beta_6prbarr + \\beta_7prbpris + \\beta_8avgsen + \\beta_9taxpc + \\beta_{10}west + \\beta_{11}central + \\beta_{12}urban + \\beta_{13}pctmin80 + \\beta_{14}wcon + \\beta_{15}wtuc + \\beta_{16}wtrd + \\beta_{17}wfir + \\beta_{18}wser + \\beta_{19}wmfg + \\beta_{20}wsta + \\beta_{21}wloc + \\beta_{22}mix + e$"
   ]
  },
  {
   "cell_type": "markdown",
   "metadata": {},
   "source": [
    "Our third model includes all covariates in the dataset. For data cleaning purposes, we continue to remove datapoints #25 and #51 throughout this model."
   ]
  },
  {
   "cell_type": "code",
   "execution_count": null,
   "metadata": {},
   "outputs": [],
   "source": [
    "plot(crime$mix, crime$crmrte)"
   ]
  },
  {
   "cell_type": "markdown",
   "metadata": {},
   "source": [
    "## Model 3 Results"
   ]
  },
  {
   "cell_type": "markdown",
   "metadata": {},
   "source": [
    "Our new Adjusted R^2: .8118. <br>\n",
    "Our prbarr, pctmin80, and transformed density variables are statistically significant at the 0.1% level. Our prbconv variable is statistically significant at the 1% level. Our avgsen, wser, and pctymle variables are statistically significant at the 5% level.\n",
    "\n",
    "Our residuals vs. fitted plot for model 3 seems to be more pronounced in its parabolic shape than it had been for models 1 and 2.\n"
   ]
  },
  {
   "cell_type": "code",
   "execution_count": null,
   "metadata": {},
   "outputs": [],
   "source": [
    "crime.2 <-  crime[ ,!names(crime) %in% c('density')]\n",
    "model.3 <- lm(crmrte ~ ., data  = crime.2[-c(25,51),])\n",
    "summary(model.3)"
   ]
  },
  {
   "cell_type": "code",
   "execution_count": null,
   "metadata": {},
   "outputs": [],
   "source": [
    "options(repr.plot.height = 6, repr.plot.width = 6, repr.plot.pointsize = 10)\n",
    "par(mfrow = c(2,2))\n",
    "plot(model.3)"
   ]
  },
  {
   "cell_type": "markdown",
   "metadata": {},
   "source": [
    "# Omitted Variables\n",
    "\n"
   ]
  },
  {
   "cell_type": "markdown",
   "metadata": {},
   "source": [
    "We believe our models may suffer from OVB from covariates that are not available in the given dataset. We identify and elaborate on these concerns individually in the below discussion:"
   ]
  },
  {
   "cell_type": "markdown",
   "metadata": {},
   "source": [
    "### Density\n",
    "Our density variable measures total county population divided by the size of the county, but does not account for the distribution of density within the county. In addition to this density variable, it would be helpful to have an intra-county density distribution gini-coefficient variable. Having access to this variable would better inform policy at the county level.\n",
    "\n",
    "The direction of this OVB is upwards, large and away from 0.\n",
    "Highly dense areas within a county would increase the density metric for a county, thereby biasing our beta term upwards. \n",
    "Since our beta associated with density is positive, an upward bias would imply that bias is away from 0. There are no close proxies for this density metric."
   ]
  },
  {
   "cell_type": "markdown",
   "metadata": {},
   "source": [
    "### Percent Youth Male\n",
    "\n",
    "We believe the pctymle variable may suffer from OVB because it doesn’t account for age nor gender distribution in a county. As such, an average or median age variable and/or gender variable would be helpful in understanding the roles that age and gender demographics play in crime rates. Perhaps an interaction term between average age and gender would be appropriate. \n",
    "\n",
    "The direction of this OVB is upwards, small, and away from 0. Intuitively, a higher percentage of young males in a county may be associated with a higher crime rate, thereby biasing our beta term upwards. Since our beta associated with density is positive, an upward bias would imply that bias is away from 0."
   ]
  },
  {
   "cell_type": "markdown",
   "metadata": {},
   "source": [
    "### Wage Variables\n",
    "\n",
    "Our various wage variables may suffer from OVB because they don’t account for other metrics of economic opportunity, such as unemployment rates and income inequality in a given county. As such, the county’s unemployment rate and income inequality gini coefficient could be helpful to include in a model.\n",
    "\n",
    "Considering that some of the wage variables in model 3 have a negative effect on crime rates, and that some have a positive effect, it is difficult to determine the direction and magnitude of OVB.\n",
    "There are no close proxies for these wage metrics in the dataset."
   ]
  },
  {
   "cell_type": "markdown",
   "metadata": {},
   "source": [
    "### Police per Capita\n",
    "\n",
    "The polpc variable may suffer from OVB as an inadequate metric for the relationship between police and the residents of the county. As such, an “attitude towards police” variable would be appropriate here. It addition, it would be interesting to compare this variable with a “attitude of police officers towards their county” variable.\n",
    "\n",
    "The direction of this OVB is upwards, large and away from 0. A large police presence in a given county could be in response to high crime rates. However, this notion doesn’t capture the nature of the relationship between the police and its residents. Moreover, a large police presence could result in more opportunity of crimes being caught. This would thereby indicate a positive, upwards bias away from 0."
   ]
  },
  {
   "cell_type": "markdown",
   "metadata": {},
   "source": [
    "### Offense Mix\n",
    "\n",
    "Our offense mix variable would suffer from OVB because the ratio of face to face crimes may not be an adequate metric in explaining increases of crime. To elaborate, some face to face crimes includes those of a violent or sexual nature, which are more sporadic and less attributable to societal structures. Furthermore, we believe that a metric of crime which is more attuned to the ratio of crimes that are economic in nature (such as robbery and theft) is more appropriate for this model. "
   ]
  },
  {
   "cell_type": "markdown",
   "metadata": {},
   "source": [
    "# Regression Tables"
   ]
  },
  {
   "cell_type": "code",
   "execution_count": null,
   "metadata": {},
   "outputs": [],
   "source": [
    "install.packages('stargazer')"
   ]
  },
  {
   "cell_type": "code",
   "execution_count": null,
   "metadata": {},
   "outputs": [],
   "source": [
    "library('stargazer')"
   ]
  },
  {
   "cell_type": "code",
   "execution_count": null,
   "metadata": {},
   "outputs": [],
   "source": [
    "?stargazer"
   ]
  },
  {
   "cell_type": "code",
   "execution_count": null,
   "metadata": {},
   "outputs": [],
   "source": [
    "stargazer(model.1.1, model.2.2, model.3, type = \"text\", omit.stat = \"f\",\n",
    "          star.cutoffs = c(0.05, 0.01, 0.001))\n"
   ]
  },
  {
   "cell_type": "code",
   "execution_count": null,
   "metadata": {},
   "outputs": [],
   "source": []
  }
 ],
 "metadata": {
  "kernelspec": {
   "display_name": "R",
   "language": "R",
   "name": "ir"
  },
  "language_info": {
   "codemirror_mode": "r",
   "file_extension": ".r",
   "mimetype": "text/x-r-source",
   "name": "R",
   "pygments_lexer": "r",
   "version": "3.5.3"
  }
 },
 "nbformat": 4,
 "nbformat_minor": 2
}
